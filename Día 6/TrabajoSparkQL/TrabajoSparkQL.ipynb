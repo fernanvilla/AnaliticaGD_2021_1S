{
 "cells": [
  {
   "cell_type": "markdown",
   "metadata": {},
   "source": [
    "# Análisis e Implementación en SparkQL\n",
    "\n",
    "* Entrega hasta el 24 de mayo en https://forms.gle/aRiWtjayausRFCTd8\n",
    "\n",
    "* Los dos conjuntos de datos entregados, CSV separados por coma, Evaluación del Pitch (2021.04.13 ISoftware).csv y Asistencia del Pitch (2021.04.13 ISoftware).csv proceden de dos encuestas realizadas con Google Forms.\n",
    "\n",
    "* Los archivos proceden de las evaluaciones de los pitch (exposiciones cortas de negocio) que realizan los estudiantes de la asignatura de Ingeniería de Software. Los estudiantes están organizados en equipos. Cada equipo realiza una presentación de máximo 15 minutos, una vez inicia la presentación todos los estudiantes deben registrar su asistencia lo cual queda registrado en 'Asistencia del Pitch (2021.04.13 ISoftware).csv' incluidos los miembros del equipo.\n",
    "\n",
    "* El archivo `Asistencia del Pitch (2021.04.13 ISoftware).csv` contiene las columnas: `\"Marca temporal\"` es tiempo dado en fecha y hora, `\"Nombre de usuario\"` es el correo electrónico del estudiante y es texto,`\"Equipo al que perteneces:\"` equipo de trabajo al que pertenece el estudiante también es texto y `\"Equipo que va a exponer:\"` equipo que el estudiante va a tender a su presentación.\n",
    "\n",
    "* El archivo `Evaluación del Pitch (2021.04.13 ISoftware).csv` contiene las columnas `\"Marca temporal\"` es tiempo dado en fecha y hora, `\"Nombre de usuario\"` es el correo electrónico del estudiante y es texto, `\"Equipo que vas a evaluar:\"` equipo que ha expuesto y que va a ser evaluado por cada estudiante que no sea integrante; a continuación, se tienen las siguientes columnas que corresponden a la evaluación de los respectivos ítems:\n",
    "\n",
    "    1. \"Introducción: El equipo responde adecuadamente ¿Quiénes son y por qué están aquí?\",\n",
    "    2. \"Equipo: El equipo responde adecuadamente ¿Quiénes están detrás de la idea y cuál es su función?\",\n",
    "    3. \"Problema: El equipo responde adecuadamente ¿Qué problema resolverá?, ¿es realmente un problema?\",\n",
    "    4. \"Ventajas: El equipo responde adecuadamente ¿Por qué su solución es especial?, ¿qué la hace distinta de otras?\",\n",
    "    5. \"Solución: El equipo responde adecuadamente ¿Cómo piensa resolver el problema?\",\n",
    "    6. \"Producto: El equipo responde adecuadamente ¿Cómo funciona el producto o servicio? Muestra algunos ejemplos.\",\n",
    "    7. \"Tracción: El equipo responde adecuadamente si cuenta con clientes que demuestran potencial.\",\n",
    "    8. \"Mercado: El equipo responde conoce, o por lo menos intentar predecir, el tamaño del mercado que impactará.\",\n",
    "    9. \"Competencia: El equipo responde adecuadamente ¿Cuáles son las soluciones alternativas al problema que plantea?\",\n",
    "    10. \"Modelo de negocio: El equipo responde adecuadamente ¿Cómo hará dinero? \",\n",
    "    11. \"Inversión: El equipo responde adecuadamente ¿Cuál es su presupuesto y cuánto espera ganar?\",\n",
    "    12. \"Contacto: El equipo deja los datos al cliente y muestra cómo pueden contactarle.\",\n",
    "    13. \"Exposición: ¿Qué tan coordinados estaban los expositores?\",\n",
    "    14. \"Exposición: ¿Los expositores se expresaron con claridad y se hicieron entender?\",\n",
    "    15. \"Exposición: Las diapositivas son claras y coherentes y apoyaron adecuadamente la exposición.\",\n",
    "    * \"Suponiendo que eres inversionista, ¿Estarías dispuesto a invertir dinero en este equipo? (esta pregunta no se pondera en la nota)\",\n",
    "    * \"Observaciones para el equipo, estas observaciones las debe considerar el equipo para mejorar la siguiente presentación.\"\n",
    "\n",
    "\n",
    "* Cada ítem se evalúa con la siguiente escala: 0. Ausente; 1. Deficiente; 2. Regular; 3. Aceptable; 4. Bueno; 5. Excelente\n",
    "\n",
    "* Carge los datos, cada archivo en una tabla SparkSQL y responda cada una de las consultas dadas en cada celda. Tenga en cuenta que algunas consultas pueden tener como resultado el vacío."
   ]
  },
  {
   "cell_type": "markdown",
   "metadata": {},
   "source": [
    "# Integrantes del equipo\n",
    "1. \n",
    "2.\n",
    "3.\n",
    "4.\n",
    "5."
   ]
  },
  {
   "cell_type": "code",
   "execution_count": null,
   "metadata": {},
   "outputs": [],
   "source": [
    "# Agrege acá el código para importar las librerias\n",
    "\n",
    "# La libreria para \"encontrar el sevicio\" de Spark\n",
    "import findspark\n",
    "findspark.init()\n",
    "\n",
    "# Librerias para \"gestionar el servicio\" de Spark\n",
    "from pyspark import SparkConf, SparkContext\n",
    "from pyspark.sql import SQLContext, SparkSession\n",
    "\n",
    "# Creamos una aplicación Spark en el Servicio\n",
    "# Tenga cuidado con las tildes o caracteres especiales en el nombre de la app\n",
    "AppSpark = SparkConf().setAppName(\"Evaluacion iSofware\")\n",
    "\n",
    "# definimos un espacio o contexto para la App\n",
    "ContextoSpark=SparkContext(conf=AppSpark)\n",
    "\n",
    "# inicio una sesión en el espacio de la App\n",
    "SesionSpark = SparkSession(ContextoSpark)\n",
    "\n",
    "# inicio del espacio o contexto SQL\n",
    "ContextoSql = SQLContext(sparkContext=ContextoSpark, sparkSession=SesionSpark)"
   ]
  },
  {
   "cell_type": "code",
   "execution_count": null,
   "metadata": {},
   "outputs": [],
   "source": [
    "# 1. Cargue los datos en la carpeta datalake y luego del /datalake al HDFS (Hadoop File System)\n",
    "# Recuerda usar ! para ejecutar el comando en el shell. \n",
    "# Tu código a continuación...\n",
    "\n"
   ]
  },
  {
   "cell_type": "code",
   "execution_count": null,
   "metadata": {},
   "outputs": [],
   "source": [
    "# 2. Cree dos tablas SparkSQL y almacene el csv en su correspondiente tabla.\n",
    "# Observación: tenga especial cuidado con los encabezados de los archivos CSV.\n",
    "# Usted puede considerar cambiar los encabezados de los CSV originales\n",
    "# Tu código a continuación...\n",
    "\n"
   ]
  },
  {
   "cell_type": "code",
   "execution_count": null,
   "metadata": {},
   "outputs": [],
   "source": [
    "# 2. Consulte el listado total de estudiantes (correos electrónicos) del \n",
    "# curso de Ingeniería de Software, ordenados alfabéticamente\n",
    "# Tu código a continuación...\n",
    "\n"
   ]
  },
  {
   "cell_type": "code",
   "execution_count": null,
   "metadata": {},
   "outputs": [],
   "source": [
    "# 3. Consulte la cantidad de asistencias registradas por estudiante; además, la fecha y hora de la primera asistencia\n",
    "# y la fecha y hora de la última asistencia\n",
    "# Tu código a continuación...\n"
   ]
  },
  {
   "cell_type": "code",
   "execution_count": null,
   "metadata": {},
   "outputs": [],
   "source": [
    "# 4. Consulte el listado de estudiantes que asistieron a 2 presentaciones o menos (una).\n",
    "# Tu código a continuación...\n"
   ]
  },
  {
   "cell_type": "code",
   "execution_count": null,
   "metadata": {},
   "outputs": [],
   "source": [
    "# 5. Consulte el listado de estudiantes que no asistieron a ninguna presentación.\n",
    "# Tu código a continuación...\n",
    "\n"
   ]
  },
  {
   "cell_type": "code",
   "execution_count": null,
   "metadata": {},
   "outputs": [],
   "source": [
    "# 6. Consulte los integrantes por cada equipo al que pertenecen.\n",
    "# Tu código a continuación...\n"
   ]
  },
  {
   "cell_type": "code",
   "execution_count": null,
   "metadata": {},
   "outputs": [],
   "source": [
    "# 7. Consulte la cantidad de asistentes por presentación, sin considerar los asistentes que pertenecen \n",
    "# al equipo que realizó la presentación.\n",
    "# Tu código a continuación...\n"
   ]
  },
  {
   "cell_type": "code",
   "execution_count": null,
   "metadata": {},
   "outputs": [],
   "source": [
    "# 8. Consutar cuáles integrantes evaluaron a su propio equipo. Estas evaluaciones no serán válidas, pues un\n",
    "# integrante no puede evaluar a su propio equipo.\n",
    "# Tu código a continuación...\n"
   ]
  },
  {
   "cell_type": "code",
   "execution_count": null,
   "metadata": {},
   "outputs": [],
   "source": [
    "# 9. Consultar la nota promedio por cada ítem (1 al 15), y la nota promedio total del cada equipo. Recuerde que no\n",
    "# son válidas las evaluaciones realizadas por los miembros del mismo equipo.\n",
    "# Tu código a continuación...\n"
   ]
  },
  {
   "cell_type": "code",
   "execution_count": null,
   "metadata": {},
   "outputs": [],
   "source": [
    "# 10. Consulte el mejor equipo evaluado por cada ítem (según nota promedio. En caso de empate mostrar todos los empatados) \n",
    "# y el mejor equipo según el promedio total.\n",
    "# Tu código a continuación...\n"
   ]
  },
  {
   "cell_type": "code",
   "execution_count": null,
   "metadata": {},
   "outputs": [],
   "source": [
    "# 11. Consulte el peor equipo evaluado por cada ítem (según nota promedio. En caso de empate mostrar todos los empatados) \n",
    "# y el peor equipo según el promedio total.\n",
    "# Tu código a continuación...\n"
   ]
  },
  {
   "cell_type": "code",
   "execution_count": null,
   "metadata": {},
   "outputs": [],
   "source": [
    "# 12. Consulte la lista de estudiantes con la correspondiente nota obtenida en la presentación \n",
    "# (nota promedio total de la evaluación obtenida por el equipo)\n",
    "# Tu código a continuación...\n"
   ]
  }
 ],
 "metadata": {
  "kernelspec": {
   "display_name": "Python 3",
   "language": "python",
   "name": "python3"
  },
  "language_info": {
   "codemirror_mode": {
    "name": "ipython",
    "version": 3
   },
   "file_extension": ".py",
   "mimetype": "text/x-python",
   "name": "python",
   "nbconvert_exporter": "python",
   "pygments_lexer": "ipython3",
   "version": "3.6.9"
  }
 },
 "nbformat": 4,
 "nbformat_minor": 4
}
